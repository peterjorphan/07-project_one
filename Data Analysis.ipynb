{
 "cells": [
  {
   "cell_type": "code",
   "execution_count": 11,
   "metadata": {},
   "outputs": [],
   "source": [
    "import pandas as pd\n",
    "import numpy as np\n",
    "import matplotlib as plt\n",
    "from datetime import datetime\n",
    "from api_keys import gkey"
   ]
  },
  {
   "cell_type": "code",
   "execution_count": 3,
   "metadata": {},
   "outputs": [
    {
     "data": {
      "text/html": [
       "<div>\n",
       "<style scoped>\n",
       "    .dataframe tbody tr th:only-of-type {\n",
       "        vertical-align: middle;\n",
       "    }\n",
       "\n",
       "    .dataframe tbody tr th {\n",
       "        vertical-align: top;\n",
       "    }\n",
       "\n",
       "    .dataframe thead th {\n",
       "        text-align: right;\n",
       "    }\n",
       "</style>\n",
       "<table border=\"1\" class=\"dataframe\">\n",
       "  <thead>\n",
       "    <tr style=\"text-align: right;\">\n",
       "      <th></th>\n",
       "      <th>Unnamed: 0</th>\n",
       "      <th>Trip ID</th>\n",
       "      <th>time</th>\n",
       "      <th>summary</th>\n",
       "      <th>precipIntensity</th>\n",
       "      <th>precipProbability</th>\n",
       "      <th>temperature</th>\n",
       "      <th>apparentTemperature</th>\n",
       "      <th>windSpeed</th>\n",
       "      <th>icon</th>\n",
       "      <th>Date</th>\n",
       "      <th>Time</th>\n",
       "    </tr>\n",
       "  </thead>\n",
       "  <tbody>\n",
       "    <tr>\n",
       "      <th>0</th>\n",
       "      <td>0</td>\n",
       "      <td>bc6f08423e9f194cb63a0d5ec6c6a2dea001e914</td>\n",
       "      <td>2013-11-16T01:45:00</td>\n",
       "      <td>Partly Cloudy</td>\n",
       "      <td>0.0000</td>\n",
       "      <td>0.00</td>\n",
       "      <td>43.39</td>\n",
       "      <td>40.05</td>\n",
       "      <td>5.59</td>\n",
       "      <td>partly-cloudy-night</td>\n",
       "      <td>2013-11-16</td>\n",
       "      <td>01:45:00</td>\n",
       "    </tr>\n",
       "    <tr>\n",
       "      <th>1</th>\n",
       "      <td>1</td>\n",
       "      <td>b2e0ede2b0d907551beda4e8b4b83c143010f63d</td>\n",
       "      <td>2016-09-28T04:45:00</td>\n",
       "      <td>Overcast</td>\n",
       "      <td>0.0005</td>\n",
       "      <td>0.14</td>\n",
       "      <td>53.40</td>\n",
       "      <td>53.40</td>\n",
       "      <td>1.25</td>\n",
       "      <td>cloudy</td>\n",
       "      <td>2016-09-28</td>\n",
       "      <td>04:45:00</td>\n",
       "    </tr>\n",
       "    <tr>\n",
       "      <th>2</th>\n",
       "      <td>2</td>\n",
       "      <td>c2155aedc41a27673cd498d0fea754a18132d7f9</td>\n",
       "      <td>2013-12-10T07:15:00</td>\n",
       "      <td>Mostly Cloudy</td>\n",
       "      <td>0.0000</td>\n",
       "      <td>0.00</td>\n",
       "      <td>7.20</td>\n",
       "      <td>-4.92</td>\n",
       "      <td>7.53</td>\n",
       "      <td>partly-cloudy-day</td>\n",
       "      <td>2013-12-10</td>\n",
       "      <td>07:15:00</td>\n",
       "    </tr>\n",
       "    <tr>\n",
       "      <th>3</th>\n",
       "      <td>3</td>\n",
       "      <td>c1e860354f05150021e1bdeb7696314ca3e15608</td>\n",
       "      <td>2014-02-27T09:00:00</td>\n",
       "      <td>Clear</td>\n",
       "      <td>0.0000</td>\n",
       "      <td>0.00</td>\n",
       "      <td>5.96</td>\n",
       "      <td>-5.93</td>\n",
       "      <td>7.04</td>\n",
       "      <td>clear-day</td>\n",
       "      <td>2014-02-27</td>\n",
       "      <td>09:00:00</td>\n",
       "    </tr>\n",
       "    <tr>\n",
       "      <th>4</th>\n",
       "      <td>4</td>\n",
       "      <td>bdff93a935333338e6f2f04f778ad7713a36c9ad</td>\n",
       "      <td>2016-10-31T04:15:00</td>\n",
       "      <td>Clear</td>\n",
       "      <td>0.0000</td>\n",
       "      <td>0.00</td>\n",
       "      <td>43.05</td>\n",
       "      <td>43.05</td>\n",
       "      <td>1.80</td>\n",
       "      <td>clear-night</td>\n",
       "      <td>2016-10-31</td>\n",
       "      <td>04:15:00</td>\n",
       "    </tr>\n",
       "  </tbody>\n",
       "</table>\n",
       "</div>"
      ],
      "text/plain": [
       "   Unnamed: 0                                   Trip ID                 time  \\\n",
       "0           0  bc6f08423e9f194cb63a0d5ec6c6a2dea001e914  2013-11-16T01:45:00   \n",
       "1           1  b2e0ede2b0d907551beda4e8b4b83c143010f63d  2016-09-28T04:45:00   \n",
       "2           2  c2155aedc41a27673cd498d0fea754a18132d7f9  2013-12-10T07:15:00   \n",
       "3           3  c1e860354f05150021e1bdeb7696314ca3e15608  2014-02-27T09:00:00   \n",
       "4           4  bdff93a935333338e6f2f04f778ad7713a36c9ad  2016-10-31T04:15:00   \n",
       "\n",
       "         summary  precipIntensity  precipProbability  temperature  \\\n",
       "0  Partly Cloudy           0.0000               0.00        43.39   \n",
       "1       Overcast           0.0005               0.14        53.40   \n",
       "2  Mostly Cloudy           0.0000               0.00         7.20   \n",
       "3          Clear           0.0000               0.00         5.96   \n",
       "4          Clear           0.0000               0.00        43.05   \n",
       "\n",
       "   apparentTemperature  windSpeed                 icon        Date      Time  \n",
       "0                40.05       5.59  partly-cloudy-night  2013-11-16  01:45:00  \n",
       "1                53.40       1.25               cloudy  2016-09-28  04:45:00  \n",
       "2                -4.92       7.53    partly-cloudy-day  2013-12-10  07:15:00  \n",
       "3                -5.93       7.04            clear-day  2014-02-27  09:00:00  \n",
       "4                43.05       1.80          clear-night  2016-10-31  04:15:00  "
      ]
     },
     "execution_count": 3,
     "metadata": {},
     "output_type": "execute_result"
    }
   ],
   "source": [
    "# Read file with weather API output and create DataFrame\n",
    "file = \"Output/weather.csv\"\n",
    "df_weather = pd.read_csv(file)\n",
    "df_weather[['Date', 'Time']] = df_weather['time'].str.split('T', n=1, expand=True)\n",
    "\n",
    "df_weather.head()"
   ]
  },
  {
   "cell_type": "code",
   "execution_count": 4,
   "metadata": {},
   "outputs": [
    {
     "data": {
      "text/html": [
       "<div>\n",
       "<style scoped>\n",
       "    .dataframe tbody tr th:only-of-type {\n",
       "        vertical-align: middle;\n",
       "    }\n",
       "\n",
       "    .dataframe tbody tr th {\n",
       "        vertical-align: top;\n",
       "    }\n",
       "\n",
       "    .dataframe thead th {\n",
       "        text-align: right;\n",
       "    }\n",
       "</style>\n",
       "<table border=\"1\" class=\"dataframe\">\n",
       "  <thead>\n",
       "    <tr style=\"text-align: right;\">\n",
       "      <th></th>\n",
       "      <th>summary</th>\n",
       "      <th>Date</th>\n",
       "      <th>Ride Count</th>\n",
       "      <th>precipIntensity</th>\n",
       "      <th>precipProbability</th>\n",
       "      <th>temperature</th>\n",
       "      <th>apparentTemperature</th>\n",
       "      <th>windSpeed</th>\n",
       "    </tr>\n",
       "  </thead>\n",
       "  <tbody>\n",
       "    <tr>\n",
       "      <th>0</th>\n",
       "      <td>Clear</td>\n",
       "      <td>2013-01-04</td>\n",
       "      <td>4</td>\n",
       "      <td>0.0</td>\n",
       "      <td>0.0</td>\n",
       "      <td>16.6825</td>\n",
       "      <td>7.5875</td>\n",
       "      <td>6.4325</td>\n",
       "    </tr>\n",
       "    <tr>\n",
       "      <th>1</th>\n",
       "      <td>Clear</td>\n",
       "      <td>2013-01-07</td>\n",
       "      <td>1</td>\n",
       "      <td>0.0</td>\n",
       "      <td>0.0</td>\n",
       "      <td>21.5800</td>\n",
       "      <td>15.0100</td>\n",
       "      <td>4.8400</td>\n",
       "    </tr>\n",
       "    <tr>\n",
       "      <th>2</th>\n",
       "      <td>Clear</td>\n",
       "      <td>2013-01-14</td>\n",
       "      <td>1</td>\n",
       "      <td>0.0</td>\n",
       "      <td>0.0</td>\n",
       "      <td>12.4300</td>\n",
       "      <td>7.1200</td>\n",
       "      <td>3.0300</td>\n",
       "    </tr>\n",
       "    <tr>\n",
       "      <th>3</th>\n",
       "      <td>Clear</td>\n",
       "      <td>2013-01-16</td>\n",
       "      <td>2</td>\n",
       "      <td>0.0</td>\n",
       "      <td>0.0</td>\n",
       "      <td>22.8950</td>\n",
       "      <td>18.8150</td>\n",
       "      <td>4.5750</td>\n",
       "    </tr>\n",
       "    <tr>\n",
       "      <th>4</th>\n",
       "      <td>Clear</td>\n",
       "      <td>2013-01-18</td>\n",
       "      <td>1</td>\n",
       "      <td>0.0</td>\n",
       "      <td>0.0</td>\n",
       "      <td>19.2600</td>\n",
       "      <td>19.2600</td>\n",
       "      <td>0.3900</td>\n",
       "    </tr>\n",
       "  </tbody>\n",
       "</table>\n",
       "</div>"
      ],
      "text/plain": [
       "  summary        Date  Ride Count  precipIntensity  precipProbability  \\\n",
       "0   Clear  2013-01-04           4              0.0                0.0   \n",
       "1   Clear  2013-01-07           1              0.0                0.0   \n",
       "2   Clear  2013-01-14           1              0.0                0.0   \n",
       "3   Clear  2013-01-16           2              0.0                0.0   \n",
       "4   Clear  2013-01-18           1              0.0                0.0   \n",
       "\n",
       "   temperature  apparentTemperature  windSpeed  \n",
       "0      16.6825               7.5875     6.4325  \n",
       "1      21.5800              15.0100     4.8400  \n",
       "2      12.4300               7.1200     3.0300  \n",
       "3      22.8950              18.8150     4.5750  \n",
       "4      19.2600              19.2600     0.3900  "
      ]
     },
     "execution_count": 4,
     "metadata": {},
     "output_type": "execute_result"
    }
   ],
   "source": [
    "bins = df_weather['summary'].unique()\n",
    "\n",
    "df_WeatherGrouped = df_weather.groupby(['summary','Date'], as_index=False).agg({'Trip ID': 'count', 'precipIntensity': 'mean', 'precipProbability': 'mean', 'temperature': 'mean', 'apparentTemperature': 'mean', 'windSpeed': 'mean'})\n",
    "df_WeatherGrouped = df_WeatherGrouped.rename(columns = {'Trip ID':'Ride Count'})\n",
    "df_WeatherGrouped.head()"
   ]
  },
  {
   "cell_type": "code",
   "execution_count": 7,
   "metadata": {},
   "outputs": [
    {
     "data": {
      "text/html": [
       "<div>\n",
       "<style scoped>\n",
       "    .dataframe tbody tr th:only-of-type {\n",
       "        vertical-align: middle;\n",
       "    }\n",
       "\n",
       "    .dataframe tbody tr th {\n",
       "        vertical-align: top;\n",
       "    }\n",
       "\n",
       "    .dataframe thead th {\n",
       "        text-align: right;\n",
       "    }\n",
       "</style>\n",
       "<table border=\"1\" class=\"dataframe\">\n",
       "  <thead>\n",
       "    <tr style=\"text-align: right;\">\n",
       "      <th></th>\n",
       "      <th>Average Rides/Day</th>\n",
       "      <th>precipIntensity</th>\n",
       "      <th>precipProbability</th>\n",
       "      <th>temperature</th>\n",
       "      <th>apparentTemperature</th>\n",
       "      <th>windSpeed</th>\n",
       "    </tr>\n",
       "    <tr>\n",
       "      <th>summary</th>\n",
       "      <th></th>\n",
       "      <th></th>\n",
       "      <th></th>\n",
       "      <th></th>\n",
       "      <th></th>\n",
       "      <th></th>\n",
       "    </tr>\n",
       "  </thead>\n",
       "  <tbody>\n",
       "    <tr>\n",
       "      <th>Clear</th>\n",
       "      <td>1.935201</td>\n",
       "      <td>0.000016</td>\n",
       "      <td>0.002267</td>\n",
       "      <td>47.009398</td>\n",
       "      <td>45.539359</td>\n",
       "      <td>2.832922</td>\n",
       "    </tr>\n",
       "    <tr>\n",
       "      <th>Drizzle</th>\n",
       "      <td>1.271739</td>\n",
       "      <td>0.008432</td>\n",
       "      <td>0.560870</td>\n",
       "      <td>54.042364</td>\n",
       "      <td>53.140326</td>\n",
       "      <td>3.505752</td>\n",
       "    </tr>\n",
       "    <tr>\n",
       "      <th>Flurries</th>\n",
       "      <td>1.400000</td>\n",
       "      <td>0.003473</td>\n",
       "      <td>0.424000</td>\n",
       "      <td>33.241333</td>\n",
       "      <td>28.994667</td>\n",
       "      <td>5.823333</td>\n",
       "    </tr>\n",
       "    <tr>\n",
       "      <th>Foggy</th>\n",
       "      <td>1.714286</td>\n",
       "      <td>0.000111</td>\n",
       "      <td>0.023503</td>\n",
       "      <td>37.890146</td>\n",
       "      <td>35.039932</td>\n",
       "      <td>3.662639</td>\n",
       "    </tr>\n",
       "    <tr>\n",
       "      <th>Heavy Rain</th>\n",
       "      <td>2.000000</td>\n",
       "      <td>0.275550</td>\n",
       "      <td>0.970000</td>\n",
       "      <td>50.630000</td>\n",
       "      <td>50.630000</td>\n",
       "      <td>1.860000</td>\n",
       "    </tr>\n",
       "  </tbody>\n",
       "</table>\n",
       "</div>"
      ],
      "text/plain": [
       "            Average Rides/Day  precipIntensity  precipProbability  \\\n",
       "summary                                                             \n",
       "Clear                1.935201         0.000016           0.002267   \n",
       "Drizzle              1.271739         0.008432           0.560870   \n",
       "Flurries             1.400000         0.003473           0.424000   \n",
       "Foggy                1.714286         0.000111           0.023503   \n",
       "Heavy Rain           2.000000         0.275550           0.970000   \n",
       "\n",
       "            temperature  apparentTemperature  windSpeed  \n",
       "summary                                                  \n",
       "Clear         47.009398            45.539359   2.832922  \n",
       "Drizzle       54.042364            53.140326   3.505752  \n",
       "Flurries      33.241333            28.994667   5.823333  \n",
       "Foggy         37.890146            35.039932   3.662639  \n",
       "Heavy Rain    50.630000            50.630000   1.860000  "
      ]
     },
     "execution_count": 7,
     "metadata": {},
     "output_type": "execute_result"
    }
   ],
   "source": [
    "df_WeatherSummary = df_WeatherGrouped.groupby('summary').mean()\n",
    "df_WeatherSummary = df_WeatherSummary.rename(columns = {'Ride Count': 'Average Rides/Day'})\n",
    "df_WeatherSummary.head()\n"
   ]
  },
  {
   "cell_type": "code",
   "execution_count": 15,
   "metadata": {},
   "outputs": [
    {
     "data": {
      "text/plain": [
       "<matplotlib.axes._subplots.AxesSubplot at 0x252b03545c0>"
      ]
     },
     "execution_count": 15,
     "metadata": {},
     "output_type": "execute_result"
    },
    {
     "data": {
      "image/png": "[encoded data removed]",
      "text/plain": [
       "<Figure size 432x288 with 1 Axes>"
      ]
     },
     "metadata": {
      "needs_background": "light"
     },
     "output_type": "display_data"
    }
   ],
   "source": [
    "df_WeatherSummary.plot(kind='bar', y = 'Average Rides/Day')\n"
   ]
  },
  {
   "cell_type": "code",
   "execution_count": 210,
   "metadata": {},
   "outputs": [
    {
     "data": {
      "text/plain": [
       "<matplotlib.axes._subplots.AxesSubplot at 0x252b4743160>"
      ]
     },
     "execution_count": 210,
     "metadata": {},
     "output_type": "execute_result"
    },
    {
     "data": {
      "image/png": "[encoded data removed]",
      "text/plain": [
       "<Figure size 432x288 with 1 Axes>"
      ]
     },
     "metadata": {
      "needs_background": "light"
     },
     "output_type": "display_data"
    }
   ],
   "source": [
    "tbins = np.arange(int(min(df_weather['apparentTemperature'])/5-1)*5, \n",
    "                  int(max(df_weather['apparentTemperature'])/5+2)*5, 5)\n",
    "\n",
    "tbin_names=[]\n",
    "a = int(min(df_weather['apparentTemperature'])/5-1)*5\n",
    "for i in range(len(tbins)-1):\n",
    "    tbin_names.append(str(a) + ' to ' + str(a+5))\n",
    "    a += 5\n",
    "\n",
    "df_TempRides = df_weather\n",
    "df_TempRides['Temp Range'] = pd.cut(df_weather['apparentTemperature'], tbins, labels=tbin_names)\n",
    "df_TempRides = df_TempRides.groupby(['Temp Range', 'Date'], as_index=False).agg({'Trip ID': 'count'})\n",
    "df_TempRides = df_TempRides.groupby('Temp Range').mean()\n",
    "df_TempRides = df_TempRides.rename(columns = {'Trip ID':'Average Rides/Day'})\n",
    "df_TempRides.plot(kind='bar', y = 'Average Rides/Day')"
   ]
  },
  {
   "cell_type": "code",
   "execution_count": 239,
   "metadata": {},
   "outputs": [
    {
     "data": {
      "text/plain": [
       "array([-0.1,  0. ,  0.1,  0.2,  0.3,  0.4])"
      ]
     },
     "execution_count": 239,
     "metadata": {},
     "output_type": "execute_result"
    },
    {
     "data": {
      "image/png": "[encoded data removed]",
      "text/plain": [
       "<Figure size 432x288 with 1 Axes>"
      ]
     },
     "metadata": {
      "needs_background": "light"
     },
     "output_type": "display_data"
    }
   ],
   "source": [
    "precipitation_bins = np.arange(int(min(df_weather['precipIntensity'])/0.1-1)*0.1, \n",
    "                               int(max(df_weather['precipIntensity'])/0.1+2)*0.1, 0.1)\n",
    "pr_names = []\n",
    "a = 0\n",
    "for i in range(len(precipitation_bins)-1):\n",
    "    pr_names.append(str(a) + ' to ' + str(a+0.1))\n",
    "    a += 0.1\n",
    "\n",
    "# pr_names = [\"0\", \"0 - 0.1\", \"0.1-0.2\", \"0.2 - 0.3\", \"0.3 - 0.4\"]\n",
    "df_PreRides = df_weather\n",
    "df_PreRides['Precipitation'] = pd.cut(df_weather['precipIntensity'], precipitation_bins, labels=pr_names)\n",
    "df_PreRides = df_PreRides.groupby(['Precipitation', 'Date'], as_index=False).agg({'Trip ID': 'count'})\n",
    "df_PreRides = df_PreRides.groupby('Precipitation').mean()\n",
    "df_PreRides = df_PreRides.rename(columns = {'Trip ID':'Average Rides/Day'})\n",
    "df_PreRides.plot(kind='bar', y = 'Average Rides/Day')\n",
    "precipitation_bins"
   ]
  },
  {
   "cell_type": "code",
   "execution_count": 244,
   "metadata": {},
   "outputs": [
    {
     "data": {
      "text/html": [
       "<div>\n",
       "<style scoped>\n",
       "    .dataframe tbody tr th:only-of-type {\n",
       "        vertical-align: middle;\n",
       "    }\n",
       "\n",
       "    .dataframe tbody tr th {\n",
       "        vertical-align: top;\n",
       "    }\n",
       "\n",
       "    .dataframe thead th {\n",
       "        text-align: right;\n",
       "    }\n",
       "</style>\n",
       "<table border=\"1\" class=\"dataframe\">\n",
       "  <thead>\n",
       "    <tr style=\"text-align: right;\">\n",
       "      <th></th>\n",
       "      <th>Average Rides/Day</th>\n",
       "    </tr>\n",
       "    <tr>\n",
       "      <th>Winds</th>\n",
       "      <th></th>\n",
       "    </tr>\n",
       "  </thead>\n",
       "  <tbody>\n",
       "    <tr>\n",
       "      <th>0 to 5</th>\n",
       "      <td>1.000000</td>\n",
       "    </tr>\n",
       "    <tr>\n",
       "      <th>5 to 10</th>\n",
       "      <td>2.413230</td>\n",
       "    </tr>\n",
       "    <tr>\n",
       "      <th>10 to 15</th>\n",
       "      <td>1.898810</td>\n",
       "    </tr>\n",
       "    <tr>\n",
       "      <th>15 to 20</th>\n",
       "      <td>1.722222</td>\n",
       "    </tr>\n",
       "    <tr>\n",
       "      <th>20 to 25</th>\n",
       "      <td>1.000000</td>\n",
       "    </tr>\n",
       "    <tr>\n",
       "      <th>25 to 30</th>\n",
       "      <td>1.000000</td>\n",
       "    </tr>\n",
       "  </tbody>\n",
       "</table>\n",
       "</div>"
      ],
      "text/plain": [
       "          Average Rides/Day\n",
       "Winds                      \n",
       "0 to 5             1.000000\n",
       "5 to 10            2.413230\n",
       "10 to 15           1.898810\n",
       "15 to 20           1.722222\n",
       "20 to 25           1.000000\n",
       "25 to 30           1.000000"
      ]
     },
     "execution_count": 244,
     "metadata": {},
     "output_type": "execute_result"
    },
    {
     "data": {
      "image/png": "[encoded data removed]",
      "text/plain": [
       "<Figure size 432x288 with 1 Axes>"
      ]
     },
     "metadata": {
      "needs_background": "light"
     },
     "output_type": "display_data"
    }
   ],
   "source": [
    "wind_bins = np.arange(int(min(df_weather['windSpeed'])/5-1)*5, int(max(df_weather['windSpeed'])/5+2)*5, 5)\n",
    "\n",
    "wind_names = []\n",
    "a = 0\n",
    "for i in range(len(wind_bins)-1):\n",
    "    wind_names.append(str(a) + ' to ' + str(a+5))\n",
    "    a += 5\n",
    "\n",
    "df_WindRides = df_weather\n",
    "df_WindRides['Winds'] = pd.cut(df_weather['windSpeed'], wind_bins, labels=wind_names)\n",
    "df_WindRides = df_WindRides.groupby(['Winds', 'Date'], as_index=False).agg({'Trip ID': 'count'})\n",
    "df_WindRides = df_WindRides.groupby('Winds').mean()\n",
    "df_WindRides = df_WindRides.rename(columns = {'Trip ID':'Average Rides/Day'})\n",
    "df_WindRides.plot(kind='bar', y = 'Average Rides/Day')\n",
    "df_WindRides\n"
   ]
  },
  {
   "cell_type": "code",
   "execution_count": null,
   "metadata": {},
   "outputs": [],
   "source": []
  }
 ],
 "metadata": {
  "kernelspec": {
   "display_name": "Python 3",
   "language": "python",
   "name": "python3"
  },
  "language_info": {
   "codemirror_mode": {
    "name": "ipython",
    "version": 3
   },
   "file_extension": ".py",
   "mimetype": "text/x-python",
   "name": "python",
   "nbconvert_exporter": "python",
   "pygments_lexer": "ipython3",
   "version": "3.6.7"
  }
 },
 "nbformat": 4,
 "nbformat_minor": 2
}
