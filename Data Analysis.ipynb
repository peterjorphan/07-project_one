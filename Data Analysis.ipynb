{
 "cells": [
  {
   "cell_type": "code",
   "execution_count": 12,
   "metadata": {},
   "outputs": [],
   "source": [
    "import pandas as pd\n",
    "import numpy as np\n",
    "import matplotlib as plt\n"
   ]
  },
  {
   "cell_type": "code",
   "execution_count": 3,
   "metadata": {},
   "outputs": [
    {
     "data": {
      "text/html": [
       "<div>\n",
       "<style scoped>\n",
       "    .dataframe tbody tr th:only-of-type {\n",
       "        vertical-align: middle;\n",
       "    }\n",
       "\n",
       "    .dataframe tbody tr th {\n",
       "        vertical-align: top;\n",
       "    }\n",
       "\n",
       "    .dataframe thead th {\n",
       "        text-align: right;\n",
       "    }\n",
       "</style>\n",
       "<table border=\"1\" class=\"dataframe\">\n",
       "  <thead>\n",
       "    <tr style=\"text-align: right;\">\n",
       "      <th></th>\n",
       "      <th>Unnamed: 0</th>\n",
       "      <th>Trip ID</th>\n",
       "      <th>time</th>\n",
       "      <th>summary</th>\n",
       "      <th>precipIntensity</th>\n",
       "      <th>precipProbability</th>\n",
       "      <th>temperature</th>\n",
       "      <th>apparentTemperature</th>\n",
       "      <th>windSpeed</th>\n",
       "      <th>icon</th>\n",
       "    </tr>\n",
       "  </thead>\n",
       "  <tbody>\n",
       "    <tr>\n",
       "      <th>0</th>\n",
       "      <td>0</td>\n",
       "      <td>bc6f08423e9f194cb63a0d5ec6c6a2dea001e914</td>\n",
       "      <td>2013-11-16T01:45:00</td>\n",
       "      <td>Partly Cloudy</td>\n",
       "      <td>0.0000</td>\n",
       "      <td>0.00</td>\n",
       "      <td>43.39</td>\n",
       "      <td>40.05</td>\n",
       "      <td>5.59</td>\n",
       "      <td>partly-cloudy-night</td>\n",
       "    </tr>\n",
       "    <tr>\n",
       "      <th>1</th>\n",
       "      <td>1</td>\n",
       "      <td>b2e0ede2b0d907551beda4e8b4b83c143010f63d</td>\n",
       "      <td>2016-09-28T04:45:00</td>\n",
       "      <td>Overcast</td>\n",
       "      <td>0.0005</td>\n",
       "      <td>0.14</td>\n",
       "      <td>53.40</td>\n",
       "      <td>53.40</td>\n",
       "      <td>1.25</td>\n",
       "      <td>cloudy</td>\n",
       "    </tr>\n",
       "    <tr>\n",
       "      <th>2</th>\n",
       "      <td>2</td>\n",
       "      <td>c2155aedc41a27673cd498d0fea754a18132d7f9</td>\n",
       "      <td>2013-12-10T07:15:00</td>\n",
       "      <td>Mostly Cloudy</td>\n",
       "      <td>0.0000</td>\n",
       "      <td>0.00</td>\n",
       "      <td>7.20</td>\n",
       "      <td>-4.92</td>\n",
       "      <td>7.53</td>\n",
       "      <td>partly-cloudy-day</td>\n",
       "    </tr>\n",
       "    <tr>\n",
       "      <th>3</th>\n",
       "      <td>3</td>\n",
       "      <td>c1e860354f05150021e1bdeb7696314ca3e15608</td>\n",
       "      <td>2014-02-27T09:00:00</td>\n",
       "      <td>Clear</td>\n",
       "      <td>0.0000</td>\n",
       "      <td>0.00</td>\n",
       "      <td>5.96</td>\n",
       "      <td>-5.93</td>\n",
       "      <td>7.04</td>\n",
       "      <td>clear-day</td>\n",
       "    </tr>\n",
       "    <tr>\n",
       "      <th>4</th>\n",
       "      <td>4</td>\n",
       "      <td>bdff93a935333338e6f2f04f778ad7713a36c9ad</td>\n",
       "      <td>2016-10-31T04:15:00</td>\n",
       "      <td>Clear</td>\n",
       "      <td>0.0000</td>\n",
       "      <td>0.00</td>\n",
       "      <td>43.05</td>\n",
       "      <td>43.05</td>\n",
       "      <td>1.80</td>\n",
       "      <td>clear-night</td>\n",
       "    </tr>\n",
       "  </tbody>\n",
       "</table>\n",
       "</div>"
      ],
      "text/plain": [
       "   Unnamed: 0                                   Trip ID                 time  \\\n",
       "0           0  bc6f08423e9f194cb63a0d5ec6c6a2dea001e914  2013-11-16T01:45:00   \n",
       "1           1  b2e0ede2b0d907551beda4e8b4b83c143010f63d  2016-09-28T04:45:00   \n",
       "2           2  c2155aedc41a27673cd498d0fea754a18132d7f9  2013-12-10T07:15:00   \n",
       "3           3  c1e860354f05150021e1bdeb7696314ca3e15608  2014-02-27T09:00:00   \n",
       "4           4  bdff93a935333338e6f2f04f778ad7713a36c9ad  2016-10-31T04:15:00   \n",
       "\n",
       "         summary  precipIntensity  precipProbability  temperature  \\\n",
       "0  Partly Cloudy           0.0000               0.00        43.39   \n",
       "1       Overcast           0.0005               0.14        53.40   \n",
       "2  Mostly Cloudy           0.0000               0.00         7.20   \n",
       "3          Clear           0.0000               0.00         5.96   \n",
       "4          Clear           0.0000               0.00        43.05   \n",
       "\n",
       "   apparentTemperature  windSpeed                 icon  \n",
       "0                40.05       5.59  partly-cloudy-night  \n",
       "1                53.40       1.25               cloudy  \n",
       "2                -4.92       7.53    partly-cloudy-day  \n",
       "3                -5.93       7.04            clear-day  \n",
       "4                43.05       1.80          clear-night  "
      ]
     },
     "execution_count": 3,
     "metadata": {},
     "output_type": "execute_result"
    }
   ],
   "source": [
    "# Read file with weather API output and create DataFrame\n",
    "file = \"Output/weather.csv\"\n",
    "weather_df = pd.read_csv(file)\n",
    "weather_df.head()"
   ]
  },
  {
   "cell_type": "code",
   "execution_count": 15,
   "metadata": {},
   "outputs": [
    {
     "data": {
      "text/plain": [
       "summary\n",
       "Clear                      601\n",
       "Drizzle                     56\n",
       "Flurries                     3\n",
       "Foggy                       37\n",
       "Humid                       13\n",
       "Humid and Mostly Cloudy     11\n",
       "Humid and Overcast           1\n",
       "Humid and Partly Cloudy      8\n",
       "Light Rain                  59\n",
       "Light Snow                   3\n",
       "Mostly Cloudy              357\n",
       "Overcast                   435\n",
       "Partly Cloudy              395\n",
       "Rain                        21\n",
       "Name: summary, dtype: int64"
      ]
     },
     "execution_count": 15,
     "metadata": {},
     "output_type": "execute_result"
    }
   ],
   "source": [
    "bins = weather_df['summary'].unique()\n",
    "\n",
    "grouped_weather = weather_df.groupby('summary')\n",
    "grouped_weather['summary'].count()"
   ]
  },
  {
   "cell_type": "code",
   "execution_count": 13,
   "metadata": {},
   "outputs": [
    {
     "data": {
      "text/plain": [
       "<matplotlib.axes._subplots.AxesSubplot at 0x166dfeab780>"
      ]
     },
     "execution_count": 13,
     "metadata": {},
     "output_type": "execute_result"
    },
    {
     "data": {
      "image/png": "[encoded data removed]",
      "text/plain": [
       "<Figure size 432x288 with 1 Axes>"
      ]
     },
     "metadata": {
      "needs_background": "light"
     },
     "output_type": "display_data"
    }
   ],
   "source": [
    "grouped_weather['summary'].count().plot(kind='bar') \n",
    "# problem is we don't take into account frequency of conditions. Need to create index by dividing by 'date'"
   ]
  },
  {
   "cell_type": "code",
   "execution_count": null,
   "metadata": {},
   "outputs": [],
   "source": []
  }
 ],
 "metadata": {
  "kernelspec": {
   "display_name": "Python 3",
   "language": "python",
   "name": "python3"
  },
  "language_info": {
   "codemirror_mode": {
    "name": "ipython",
    "version": 3
   },
   "file_extension": ".py",
   "mimetype": "text/x-python",
   "name": "python",
   "nbconvert_exporter": "python",
   "pygments_lexer": "ipython3",
   "version": "3.6.7"
  }
 },
 "nbformat": 4,
 "nbformat_minor": 2
}
