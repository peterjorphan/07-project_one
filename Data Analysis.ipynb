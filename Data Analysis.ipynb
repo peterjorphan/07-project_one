{
 "cells": [
  {
   "cell_type": "code",
   "execution_count": 449,
   "metadata": {},
   "outputs": [],
   "source": [
    "import pandas as pd\n",
    "import numpy as np\n",
    "import matplotlib.pyplot as plt\n",
    "import os\n",
    "from datetime import datetime\n",
    "from api_keys import gkey"
   ]
  },
  {
   "cell_type": "code",
   "execution_count": 445,
   "metadata": {
    "scrolled": false
   },
   "outputs": [
    {
     "data": {
      "text/html": [
       "<div>\n",
       "<style scoped>\n",
       "    .dataframe tbody tr th:only-of-type {\n",
       "        vertical-align: middle;\n",
       "    }\n",
       "\n",
       "    .dataframe tbody tr th {\n",
       "        vertical-align: top;\n",
       "    }\n",
       "\n",
       "    .dataframe thead th {\n",
       "        text-align: right;\n",
       "    }\n",
       "</style>\n",
       "<table border=\"1\" class=\"dataframe\">\n",
       "  <thead>\n",
       "    <tr style=\"text-align: right;\">\n",
       "      <th></th>\n",
       "      <th>Unnamed: 0</th>\n",
       "      <th>Trip ID</th>\n",
       "      <th>time</th>\n",
       "      <th>summary</th>\n",
       "      <th>precipIntensity</th>\n",
       "      <th>precipProbability</th>\n",
       "      <th>temperature</th>\n",
       "      <th>apparentTemperature</th>\n",
       "      <th>windSpeed</th>\n",
       "      <th>icon</th>\n",
       "      <th>Date</th>\n",
       "      <th>Time</th>\n",
       "      <th>Weather Group</th>\n",
       "    </tr>\n",
       "  </thead>\n",
       "  <tbody>\n",
       "    <tr>\n",
       "      <th>0</th>\n",
       "      <td>0</td>\n",
       "      <td>bc6f08423e9f194cb63a0d5ec6c6a2dea001e914</td>\n",
       "      <td>2013-11-16T01:45:00</td>\n",
       "      <td>Partly Cloudy</td>\n",
       "      <td>0.0000</td>\n",
       "      <td>0.00</td>\n",
       "      <td>43.39</td>\n",
       "      <td>40.05</td>\n",
       "      <td>5.59</td>\n",
       "      <td>partly-cloudy-night</td>\n",
       "      <td>2013-11-16</td>\n",
       "      <td>01:45:00</td>\n",
       "      <td>Partly Cloudy</td>\n",
       "    </tr>\n",
       "    <tr>\n",
       "      <th>1</th>\n",
       "      <td>1</td>\n",
       "      <td>b2e0ede2b0d907551beda4e8b4b83c143010f63d</td>\n",
       "      <td>2016-09-28T04:45:00</td>\n",
       "      <td>Overcast</td>\n",
       "      <td>0.0005</td>\n",
       "      <td>0.14</td>\n",
       "      <td>53.40</td>\n",
       "      <td>53.40</td>\n",
       "      <td>1.25</td>\n",
       "      <td>cloudy</td>\n",
       "      <td>2016-09-28</td>\n",
       "      <td>04:45:00</td>\n",
       "      <td>Cloudy</td>\n",
       "    </tr>\n",
       "    <tr>\n",
       "      <th>2</th>\n",
       "      <td>2</td>\n",
       "      <td>c2155aedc41a27673cd498d0fea754a18132d7f9</td>\n",
       "      <td>2013-12-10T07:15:00</td>\n",
       "      <td>Mostly Cloudy</td>\n",
       "      <td>0.0000</td>\n",
       "      <td>0.00</td>\n",
       "      <td>7.20</td>\n",
       "      <td>-4.92</td>\n",
       "      <td>7.53</td>\n",
       "      <td>partly-cloudy-day</td>\n",
       "      <td>2013-12-10</td>\n",
       "      <td>07:15:00</td>\n",
       "      <td>Partly Cloudy</td>\n",
       "    </tr>\n",
       "    <tr>\n",
       "      <th>3</th>\n",
       "      <td>3</td>\n",
       "      <td>c1e860354f05150021e1bdeb7696314ca3e15608</td>\n",
       "      <td>2014-02-27T09:00:00</td>\n",
       "      <td>Clear</td>\n",
       "      <td>0.0000</td>\n",
       "      <td>0.00</td>\n",
       "      <td>5.96</td>\n",
       "      <td>-5.93</td>\n",
       "      <td>7.04</td>\n",
       "      <td>clear-day</td>\n",
       "      <td>2014-02-27</td>\n",
       "      <td>09:00:00</td>\n",
       "      <td>Clear</td>\n",
       "    </tr>\n",
       "    <tr>\n",
       "      <th>4</th>\n",
       "      <td>4</td>\n",
       "      <td>bdff93a935333338e6f2f04f778ad7713a36c9ad</td>\n",
       "      <td>2016-10-31T04:15:00</td>\n",
       "      <td>Clear</td>\n",
       "      <td>0.0000</td>\n",
       "      <td>0.00</td>\n",
       "      <td>43.05</td>\n",
       "      <td>43.05</td>\n",
       "      <td>1.80</td>\n",
       "      <td>clear-night</td>\n",
       "      <td>2016-10-31</td>\n",
       "      <td>04:15:00</td>\n",
       "      <td>Clear</td>\n",
       "    </tr>\n",
       "  </tbody>\n",
       "</table>\n",
       "</div>"
      ],
      "text/plain": [
       "   Unnamed: 0                                   Trip ID                 time  \\\n",
       "0           0  bc6f08423e9f194cb63a0d5ec6c6a2dea001e914  2013-11-16T01:45:00   \n",
       "1           1  b2e0ede2b0d907551beda4e8b4b83c143010f63d  2016-09-28T04:45:00   \n",
       "2           2  c2155aedc41a27673cd498d0fea754a18132d7f9  2013-12-10T07:15:00   \n",
       "3           3  c1e860354f05150021e1bdeb7696314ca3e15608  2014-02-27T09:00:00   \n",
       "4           4  bdff93a935333338e6f2f04f778ad7713a36c9ad  2016-10-31T04:15:00   \n",
       "\n",
       "         summary  precipIntensity  precipProbability  temperature  \\\n",
       "0  Partly Cloudy           0.0000               0.00        43.39   \n",
       "1       Overcast           0.0005               0.14        53.40   \n",
       "2  Mostly Cloudy           0.0000               0.00         7.20   \n",
       "3          Clear           0.0000               0.00         5.96   \n",
       "4          Clear           0.0000               0.00        43.05   \n",
       "\n",
       "   apparentTemperature  windSpeed                 icon        Date      Time  \\\n",
       "0                40.05       5.59  partly-cloudy-night  2013-11-16  01:45:00   \n",
       "1                53.40       1.25               cloudy  2016-09-28  04:45:00   \n",
       "2                -4.92       7.53    partly-cloudy-day  2013-12-10  07:15:00   \n",
       "3                -5.93       7.04            clear-day  2014-02-27  09:00:00   \n",
       "4                43.05       1.80          clear-night  2016-10-31  04:15:00   \n",
       "\n",
       "   Weather Group  \n",
       "0  Partly Cloudy  \n",
       "1         Cloudy  \n",
       "2  Partly Cloudy  \n",
       "3          Clear  \n",
       "4          Clear  "
      ]
     },
     "execution_count": 445,
     "metadata": {},
     "output_type": "execute_result"
    }
   ],
   "source": [
    "# Read file with weather API output and create DataFrame\n",
    "file = \"Output/weather.csv\"\n",
    "df_weather = pd.read_csv(file)\n",
    "df_weather[['Date', 'Time']] = df_weather['time'].str.split('T', n=1, expand=True)\n",
    "\n",
    "observations = len(df_weather)-1\n",
    "\n",
    "di = {'clear-day':'Clear',\n",
    "      'clear-night':'Clear', \n",
    "      'cloudy':'Cloudy', \n",
    "      'fog':'Cloudy', \n",
    "      'partly-cloudy-day':'Partly Cloudy', \n",
    "      'partly-cloudy-night':'Partly Cloudy'}                   \n",
    "\n",
    "df_weather['Weather Group'] = df_weather['icon'].map(di).fillna(df_weather['icon'].str.capitalize())\n",
    "\n",
    "df_weather.head()\n"
   ]
  },
  {
   "cell_type": "code",
   "execution_count": 446,
   "metadata": {
    "scrolled": false
   },
   "outputs": [
    {
     "data": {
      "text/html": [
       "<div>\n",
       "<style scoped>\n",
       "    .dataframe tbody tr th:only-of-type {\n",
       "        vertical-align: middle;\n",
       "    }\n",
       "\n",
       "    .dataframe tbody tr th {\n",
       "        vertical-align: top;\n",
       "    }\n",
       "\n",
       "    .dataframe thead th {\n",
       "        text-align: right;\n",
       "    }\n",
       "</style>\n",
       "<table border=\"1\" class=\"dataframe\">\n",
       "  <thead>\n",
       "    <tr style=\"text-align: right;\">\n",
       "      <th></th>\n",
       "      <th>Weather Group</th>\n",
       "      <th>Date</th>\n",
       "      <th>Ride Count</th>\n",
       "      <th>precipIntensity</th>\n",
       "      <th>precipProbability</th>\n",
       "      <th>temperature</th>\n",
       "      <th>apparentTemperature</th>\n",
       "      <th>windSpeed</th>\n",
       "    </tr>\n",
       "  </thead>\n",
       "  <tbody>\n",
       "    <tr>\n",
       "      <th>0</th>\n",
       "      <td>Clear</td>\n",
       "      <td>2013-01-02</td>\n",
       "      <td>1</td>\n",
       "      <td>0.0</td>\n",
       "      <td>0.0</td>\n",
       "      <td>11.490000</td>\n",
       "      <td>11.490000</td>\n",
       "      <td>2.550000</td>\n",
       "    </tr>\n",
       "    <tr>\n",
       "      <th>1</th>\n",
       "      <td>Clear</td>\n",
       "      <td>2013-01-04</td>\n",
       "      <td>6</td>\n",
       "      <td>0.0</td>\n",
       "      <td>0.0</td>\n",
       "      <td>17.561667</td>\n",
       "      <td>8.576667</td>\n",
       "      <td>6.521667</td>\n",
       "    </tr>\n",
       "    <tr>\n",
       "      <th>2</th>\n",
       "      <td>Clear</td>\n",
       "      <td>2013-01-05</td>\n",
       "      <td>1</td>\n",
       "      <td>0.0</td>\n",
       "      <td>0.0</td>\n",
       "      <td>22.900000</td>\n",
       "      <td>22.900000</td>\n",
       "      <td>2.670000</td>\n",
       "    </tr>\n",
       "    <tr>\n",
       "      <th>3</th>\n",
       "      <td>Clear</td>\n",
       "      <td>2013-01-07</td>\n",
       "      <td>2</td>\n",
       "      <td>0.0</td>\n",
       "      <td>0.0</td>\n",
       "      <td>21.915000</td>\n",
       "      <td>15.160000</td>\n",
       "      <td>5.065000</td>\n",
       "    </tr>\n",
       "    <tr>\n",
       "      <th>4</th>\n",
       "      <td>Clear</td>\n",
       "      <td>2013-01-09</td>\n",
       "      <td>1</td>\n",
       "      <td>0.0</td>\n",
       "      <td>0.0</td>\n",
       "      <td>36.650000</td>\n",
       "      <td>31.340000</td>\n",
       "      <td>6.630000</td>\n",
       "    </tr>\n",
       "  </tbody>\n",
       "</table>\n",
       "</div>"
      ],
      "text/plain": [
       "  Weather Group        Date  Ride Count  precipIntensity  precipProbability  \\\n",
       "0         Clear  2013-01-02           1              0.0                0.0   \n",
       "1         Clear  2013-01-04           6              0.0                0.0   \n",
       "2         Clear  2013-01-05           1              0.0                0.0   \n",
       "3         Clear  2013-01-07           2              0.0                0.0   \n",
       "4         Clear  2013-01-09           1              0.0                0.0   \n",
       "\n",
       "   temperature  apparentTemperature  windSpeed  \n",
       "0    11.490000            11.490000   2.550000  \n",
       "1    17.561667             8.576667   6.521667  \n",
       "2    22.900000            22.900000   2.670000  \n",
       "3    21.915000            15.160000   5.065000  \n",
       "4    36.650000            31.340000   6.630000  "
      ]
     },
     "execution_count": 446,
     "metadata": {},
     "output_type": "execute_result"
    }
   ],
   "source": [
    "df_WeatherGrouped = df_weather.groupby(['Weather Group','Date'], as_index=False).agg({'Trip ID': 'count', 'precipIntensity': 'mean', 'precipProbability': 'mean', 'temperature': 'mean', 'apparentTemperature': 'mean', 'windSpeed': 'mean'})\n",
    "df_WeatherGrouped = df_WeatherGrouped.rename(columns = {'Trip ID':'Ride Count'})\n",
    "df_WeatherGrouped.head()"
   ]
  },
  {
   "cell_type": "code",
   "execution_count": 447,
   "metadata": {
    "scrolled": false
   },
   "outputs": [
    {
     "data": {
      "text/html": [
       "<div>\n",
       "<style scoped>\n",
       "    .dataframe tbody tr th:only-of-type {\n",
       "        vertical-align: middle;\n",
       "    }\n",
       "\n",
       "    .dataframe tbody tr th {\n",
       "        vertical-align: top;\n",
       "    }\n",
       "\n",
       "    .dataframe thead th {\n",
       "        text-align: right;\n",
       "    }\n",
       "</style>\n",
       "<table border=\"1\" class=\"dataframe\">\n",
       "  <thead>\n",
       "    <tr style=\"text-align: right;\">\n",
       "      <th></th>\n",
       "      <th>Weather Group</th>\n",
       "      <th>Average Rides/Day</th>\n",
       "      <th>precipIntensity</th>\n",
       "      <th>precipProbability</th>\n",
       "      <th>temperature</th>\n",
       "      <th>apparentTemperature</th>\n",
       "      <th>windSpeed</th>\n",
       "    </tr>\n",
       "  </thead>\n",
       "  <tbody>\n",
       "    <tr>\n",
       "      <th>0</th>\n",
       "      <td>Clear</td>\n",
       "      <td>2.763966</td>\n",
       "      <td>0.000014</td>\n",
       "      <td>0.002006</td>\n",
       "      <td>47.673415</td>\n",
       "      <td>46.336938</td>\n",
       "      <td>2.814342</td>\n",
       "    </tr>\n",
       "    <tr>\n",
       "      <th>1</th>\n",
       "      <td>Cloudy</td>\n",
       "      <td>2.771812</td>\n",
       "      <td>0.000262</td>\n",
       "      <td>0.033125</td>\n",
       "      <td>43.079188</td>\n",
       "      <td>40.686337</td>\n",
       "      <td>4.234600</td>\n",
       "    </tr>\n",
       "    <tr>\n",
       "      <th>2</th>\n",
       "      <td>Partly Cloudy</td>\n",
       "      <td>2.755396</td>\n",
       "      <td>0.000069</td>\n",
       "      <td>0.007948</td>\n",
       "      <td>52.059412</td>\n",
       "      <td>50.779699</td>\n",
       "      <td>3.612686</td>\n",
       "    </tr>\n",
       "    <tr>\n",
       "      <th>3</th>\n",
       "      <td>Rain</td>\n",
       "      <td>2.430622</td>\n",
       "      <td>0.031524</td>\n",
       "      <td>0.717654</td>\n",
       "      <td>55.048932</td>\n",
       "      <td>54.148455</td>\n",
       "      <td>3.932984</td>\n",
       "    </tr>\n",
       "    <tr>\n",
       "      <th>4</th>\n",
       "      <td>Snow</td>\n",
       "      <td>2.200000</td>\n",
       "      <td>0.007181</td>\n",
       "      <td>0.492833</td>\n",
       "      <td>32.954667</td>\n",
       "      <td>28.927083</td>\n",
       "      <td>5.068833</td>\n",
       "    </tr>\n",
       "  </tbody>\n",
       "</table>\n",
       "</div>"
      ],
      "text/plain": [
       "   Weather Group  Average Rides/Day  precipIntensity  precipProbability  \\\n",
       "0          Clear           2.763966         0.000014           0.002006   \n",
       "1         Cloudy           2.771812         0.000262           0.033125   \n",
       "2  Partly Cloudy           2.755396         0.000069           0.007948   \n",
       "3           Rain           2.430622         0.031524           0.717654   \n",
       "4           Snow           2.200000         0.007181           0.492833   \n",
       "\n",
       "   temperature  apparentTemperature  windSpeed  \n",
       "0    47.673415            46.336938   2.814342  \n",
       "1    43.079188            40.686337   4.234600  \n",
       "2    52.059412            50.779699   3.612686  \n",
       "3    55.048932            54.148455   3.932984  \n",
       "4    32.954667            28.927083   5.068833  "
      ]
     },
     "execution_count": 447,
     "metadata": {},
     "output_type": "execute_result"
    }
   ],
   "source": [
    "df_WeatherSummary = df_WeatherGrouped.groupby('Weather Group', as_index=False).mean()\n",
    "df_WeatherSummary = df_WeatherSummary.rename(columns = {'Ride Count': 'Average Rides/Day'})\n",
    "df_WeatherSummary\n"
   ]
  },
  {
   "cell_type": "code",
   "execution_count": 450,
   "metadata": {},
   "outputs": [
    {
     "data": {
      "image/png": "[encoded data removed]",
      "text/plain": [
       "<Figure size 432x288 with 1 Axes>"
      ]
     },
     "metadata": {
      "needs_background": "light"
     },
     "output_type": "display_data"
    }
   ],
   "source": [
    "df_WeatherSummary.plot(kind='bar', y = 'Average Rides/Day', x = 'Weather Group')\n",
    "\n",
    "try: os.mkdir('Images')\n",
    "except: pass\n",
    "\n",
    "plt.savefig(\"Images/Rides-WeatherGroups.png\")\n"
   ]
  },
  {
   "cell_type": "code",
   "execution_count": 451,
   "metadata": {
    "scrolled": true
   },
   "outputs": [
    {
     "data": {
      "image/png": "[encoded data removed]",
      "text/plain": [
       "<Figure size 432x288 with 1 Axes>"
      ]
     },
     "metadata": {
      "needs_background": "light"
     },
     "output_type": "display_data"
    }
   ],
   "source": [
    "tbins = np.arange(int(min(df_weather['apparentTemperature'])/10-1)*10, \n",
    "                  int(max(df_weather['apparentTemperature'])/10+2)*10, 10)\n",
    "\n",
    "# create bin labels\n",
    "tbin_names = [f\"{tbins[i]} to {tbins[i+1]}\" for i in range(len(tbins)-1)]\n",
    "    \n",
    "df_TempRides = df_weather\n",
    "df_TempRides['Temp Range'] = pd.cut(df_weather['apparentTemperature'], tbins, labels=tbin_names)\n",
    "df_TempRides = df_TempRides.groupby(['Temp Range', 'Date'], as_index=False).agg({'Trip ID': 'count'})\n",
    "df_TempRides = df_TempRides.groupby('Temp Range').mean()\n",
    "df_TempRides = df_TempRides.rename(columns = {'Trip ID':'Average Rides/Day'})\n",
    "df_TempRides.plot(kind='bar', y = 'Average Rides/Day')\n",
    "df_TempRides\n",
    "\n",
    "try: os.mkdir('Images')\n",
    "except: pass\n",
    "\n",
    "plt.savefig(\"Images/Rides-Temp.png\")"
   ]
  },
  {
   "cell_type": "code",
   "execution_count": 452,
   "metadata": {},
   "outputs": [
    {
     "data": {
      "image/png": "[encoded data removed]",
      "text/plain": [
       "<Figure size 432x288 with 1 Axes>"
      ]
     },
     "metadata": {
      "needs_background": "light"
     },
     "output_type": "display_data"
    }
   ],
   "source": [
    "precipitation_bins = np.arange(int(min(df_weather['precipIntensity'])/0.1-1)*0.1, \n",
    "                               int(max(df_weather['precipIntensity'])/0.1+2)*0.1, 0.1)\n",
    "# create bin labels\n",
    "pr_names = [f\"{precipitation_bins[i]:.2} to {precipitation_bins[i+1]:.2}\" for i in range(len(precipitation_bins)-1)]\n",
    "pr_names[0]=0\n",
    "\n",
    "df_PreRides = df_weather\n",
    "df_PreRides['Precipitation'] = pd.cut(df_weather['precipIntensity'], precipitation_bins, labels=pr_names)\n",
    "df_PreRides = df_PreRides.groupby(['Precipitation', 'Date'], as_index=False).agg({'Trip ID': 'count'})\n",
    "df_PreRides = df_PreRides.groupby('Precipitation').mean()\n",
    "df_PreRides = df_PreRides.rename(columns = {'Trip ID':'Average Rides/Day'})\n",
    "df_PreRides.plot(kind='bar', y = 'Average Rides/Day')\n",
    "df_PreRides\n",
    "\n",
    "try: os.mkdir('Images')\n",
    "except: pass\n",
    "\n",
    "plt.savefig(\"Images/Rides-Precipitation.png\")"
   ]
  },
  {
   "cell_type": "code",
   "execution_count": 453,
   "metadata": {},
   "outputs": [
    {
     "data": {
      "image/png": "[encoded data removed]",
      "text/plain": [
       "<Figure size 432x288 with 1 Axes>"
      ]
     },
     "metadata": {
      "needs_background": "light"
     },
     "output_type": "display_data"
    }
   ],
   "source": [
    "wind_bins = np.arange(int(min(df_weather['windSpeed'])/5-1)*5, int(max(df_weather['windSpeed'])/5+2)*5, 5)\n",
    "\n",
    "# create bin labels\n",
    "wind_names = [f\"{wind_bins[i]} to {wind_bins[i+1]}\" for i in range(len(wind_bins)-1)]\n",
    "wind_names[0] = 0\n",
    "    \n",
    "df_WindRides = df_weather\n",
    "df_WindRides['Winds'] = pd.cut(df_weather['windSpeed'], wind_bins, labels=wind_names)\n",
    "df_WindRides = df_WindRides.groupby(['Winds', 'Date'], as_index=False).agg({'Trip ID': 'count'})\n",
    "df_WindRides = df_WindRides.groupby('Winds').mean()\n",
    "df_WindRides = df_WindRides.rename(columns = {'Trip ID':'Average Rides/Day'})\n",
    "df_WindRides.plot(kind='bar', y = 'Average Rides/Day')\n",
    "df_WindRides\n",
    "\n",
    "try: os.mkdir('Images')\n",
    "except: pass\n",
    "\n",
    "plt.savefig(\"Images/Rides-Wind.png\")"
   ]
  },
  {
   "cell_type": "code",
   "execution_count": null,
   "metadata": {},
   "outputs": [],
   "source": []
  }
 ],
 "metadata": {
  "kernelspec": {
   "display_name": "Python 3",
   "language": "python",
   "name": "python3"
  },
  "language_info": {
   "codemirror_mode": {
    "name": "ipython",
    "version": 3
   },
   "file_extension": ".py",
   "mimetype": "text/x-python",
   "name": "python",
   "nbconvert_exporter": "python",
   "pygments_lexer": "ipython3",
   "version": "3.6.7"
  }
 },
 "nbformat": 4,
 "nbformat_minor": 2
}
