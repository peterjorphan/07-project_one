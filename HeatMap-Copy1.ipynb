{
 "cells": [
  {
   "cell_type": "code",
   "execution_count": 1,
   "metadata": {},
   "outputs": [
    {
     "ename": "ImportError",
     "evalue": "cannot import name 'gkey'",
     "output_type": "error",
     "traceback": [
      "\u001b[1;31m---------------------------------------------------------------------------\u001b[0m",
      "\u001b[1;31mImportError\u001b[0m                               Traceback (most recent call last)",
      "\u001b[1;32m<ipython-input-1-4db192da0828>\u001b[0m in \u001b[0;36m<module>\u001b[1;34m\u001b[0m\n\u001b[0;32m      2\u001b[0m \u001b[1;32mimport\u001b[0m \u001b[0mnumpy\u001b[0m \u001b[1;32mas\u001b[0m \u001b[0mnum\u001b[0m\u001b[1;33m\u001b[0m\u001b[1;33m\u001b[0m\u001b[0m\n\u001b[0;32m      3\u001b[0m \u001b[1;32mimport\u001b[0m \u001b[0mgmaps\u001b[0m\u001b[1;33m\u001b[0m\u001b[1;33m\u001b[0m\u001b[0m\n\u001b[1;32m----> 4\u001b[1;33m \u001b[1;32mfrom\u001b[0m \u001b[0mapi_keys\u001b[0m \u001b[1;32mimport\u001b[0m \u001b[0mgkey\u001b[0m\u001b[1;33m\u001b[0m\u001b[1;33m\u001b[0m\u001b[0m\n\u001b[0m",
      "\u001b[1;31mImportError\u001b[0m: cannot import name 'gkey'"
     ]
    }
   ],
   "source": [
    "import pandas as pd\n",
    "import numpy as num\n",
    "import gmaps\n",
    "from api_keys import gkey"
   ]
  },
  {
   "cell_type": "code",
   "execution_count": null,
   "metadata": {},
   "outputs": [],
   "source": [
    "file = \"output/weather.csv\"\n",
    "df_weather = pd.read_csv(file)\n",
    "df_weather.head()"
   ]
  },
  {
   "cell_type": "code",
   "execution_count": null,
   "metadata": {},
   "outputs": [],
   "source": [
    "# df_IDs = df_weather[\"Trip ID\"]\n",
    "# df_IDs.head()"
   ]
  },
  {
   "cell_type": "code",
   "execution_count": null,
   "metadata": {},
   "outputs": [],
   "source": [
    "taxi_file = \"Resources/DataWithHeaders.csv\"\n",
    "df_taxi = pd.read_csv(taxi_file)\n",
    "df_taxi.head()"
   ]
  },
  {
   "cell_type": "code",
   "execution_count": null,
   "metadata": {},
   "outputs": [],
   "source": [
    "# Create a merged dataframe with the Trip ID, time information, and weather data\n",
    "df_merged = pd.merge(df_weather, df_taxi, on=\"Trip ID\")\n",
    "df_merged"
   ]
  },
  {
   "cell_type": "code",
   "execution_count": null,
   "metadata": {},
   "outputs": [],
   "source": [
    "gmaps.configure(api_key=gkey)\n",
    "locations = df_merged[[\"Pickup Centroid Latitude\", \"Pickup Centroid Longitude\"]].astype(float)\n",
    "\n",
    "df_count = df_merged.groupby(\"Community Areas\")[\"Trip ID\"].count()\n",
    "df_count = pd.DataFrame(df_count)\n",
    "\n",
    "# weight_ID = df_count[\"Trip ID\"]\n",
    "\n",
    "# df_count\n",
    "# poverty_rate = census_data_complete[\"Poverty Rate\"].astype(float)"
   ]
  },
  {
   "cell_type": "code",
   "execution_count": null,
   "metadata": {},
   "outputs": [],
   "source": [
    "figure = gmaps.figure()\n",
    "\n",
    "heat_layer = gmaps.heatmap_layer(locations, weights=df_merged[\"Community Areas\"], \n",
    "                                 dissipating=False, max_intensity=1000,\n",
    "                                 point_radius = .003)\n",
    "\n",
    "\n",
    "figure.add_layer(heat_layer)\n",
    "\n",
    "figure"
   ]
  }
 ],
 "metadata": {
  "kernelspec": {
   "display_name": "Python 3",
   "language": "python",
   "name": "python3"
  },
  "language_info": {
   "codemirror_mode": {
    "name": "ipython",
    "version": 3
   },
   "file_extension": ".py",
   "mimetype": "text/x-python",
   "name": "python",
   "nbconvert_exporter": "python",
   "pygments_lexer": "ipython3",
   "version": "3.6.7"
  }
 },
 "nbformat": 4,
 "nbformat_minor": 2
}
