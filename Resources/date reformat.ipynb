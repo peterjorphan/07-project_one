{
 "cells": [
  {
   "cell_type": "code",
   "execution_count": null,
   "metadata": {},
   "outputs": [],
   "source": [
    "import pandas as pd\n",
    "import numpy as np\n",
    "from datetime import datetime\n",
    "\n",
    "file = \"Taxi_Trips_Random_Sample.csv\"\n",
    "df = pd.read_csv(file, header=None)\n",
    "df.columns = [\"Trip ID\", \"Taxi ID\",\"Trip Start Timestamp\", \"Trip End Timestamp\",\"Trip Seconds\",\n",
    "             \"Trip Miles\", \"Pickup Census Tract\", \"Dropoff Census Tract\", \"Pickup Community Area\", \n",
    "             \"Dropoff Community Area\", \"Fare\", \"Tips\", \"Tolls\", \"Extras\", \"Trip Total\", \"Payment Type\", \n",
    "             \"Company\", \"Pickup Centroid Latitude\", \"Pickup Centroid Longitude\", \"Pickup Centroid Location\", \n",
    "             \"Dropoff Centroid Latitude\", \"Dropoff Centroid Longitude\", \"Dropoff Centroid Location\",\"Community Areas\"]\n",
    "\n",
    "df1 = df.groupby(['Community Areas'], as_index=False).agg({'Trip Seconds': 'mean', 'Trip Miles': 'mean', 'Trip Total': 'mean', 'Trip ID': 'count'})\n",
    "\n",
    "newdatestart_list = []\n",
    "\n",
    "for date in df['Trip Start Timestamp']:\n",
    "    date_obj = datetime.strptime(date, '%m/%d/%Y %H:%M:%S %p')\n",
    "    new_date = date_obj.strftime('%Y-%m-%dT%H:%M:%S')\n",
    "    newdatestart_list.append(new_date)\n",
    "\n",
    "df['Trip Start Timestamp'] = newdatestart_list\n",
    "df.head()"
   ]
  }
 ],
 "metadata": {
  "kernelspec": {
   "display_name": "Python (python_data)",
   "language": "python",
   "name": "python_data"
  },
  "language_info": {
   "codemirror_mode": {
    "name": "ipython",
    "version": 3
   },
   "file_extension": ".py",
   "mimetype": "text/x-python",
   "name": "python",
   "nbconvert_exporter": "python",
   "pygments_lexer": "ipython3",
   "version": "3.6.7"
  }
 },
 "nbformat": 4,
 "nbformat_minor": 2
}
