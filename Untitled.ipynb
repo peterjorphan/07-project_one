{
 "cells": [
  {
   "cell_type": "code",
   "execution_count": null,
   "metadata": {},
   "outputs": [],
   "source": [
    "# create new column to hold temp range\n",
    "df1[\"temp range\"] = \"\"\n",
    "\n",
    "# compare apparentTemperature value to temp category values and place them in the newly created 'temp range' column\n",
    "(df1.loc[df1['apparentTemperature'] > 89, ['temp range']]) = 'High 90+'\n",
    "(df1.loc[(90 > df1['apparentTemperature']) & (df1['temperature'] > 49), ['temp range']]) = 'Mid 50-89'\n",
    "(df1.loc[(50 > df1['apparentTemperature']) & (df1['temperature']> 32), ['temp range']]) = 'Low 33-49'\n",
    "(df1.loc[df1['apparentTemperature'] < 33, ['temp range']]) = 'Freezing'\n",
    "\n",
    "# group by 'temp range' and aggreagte appropriate columns\n",
    "df1 = df1.groupby(['temp range']).agg({'Trip ID': 'count', 'precipIntensity': 'mean', 'precipProbability': 'mean', 'temperature': 'mean', \n",
    "        'apparentTemperature': 'mean', 'windSpeed': 'mean', 'Trip Seconds': 'mean', 'Trip Miles': 'mean', 'Fare': 'mean', 'Trip Total': 'mean'})"
   ]
  }
 ],
 "metadata": {
  "kernelspec": {
   "display_name": "Python (python_data)",
   "language": "python",
   "name": "python_data"
  },
  "language_info": {
   "codemirror_mode": {
    "name": "ipython",
    "version": 3
   },
   "file_extension": ".py",
   "mimetype": "text/x-python",
   "name": "python",
   "nbconvert_exporter": "python",
   "pygments_lexer": "ipython3",
   "version": "3.6.7"
  }
 },
 "nbformat": 4,
 "nbformat_minor": 2
}
